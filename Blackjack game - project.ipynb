{
 "cells": [
  {
   "cell_type": "code",
   "execution_count": 7,
   "id": "898bb36d",
   "metadata": {},
   "outputs": [],
   "source": [
    "import random\n",
    "suits = ('Hearts', 'Diamonds', 'Spades', 'Clubs')\n",
    "ranks = ('Two', 'Three', 'Four', 'Five', 'Six', 'Seven', 'Eight', 'Nine', 'Ten', 'Jack', 'Queen', 'King', 'Ace')\n",
    "values = {'Two':2, 'Three':3, 'Four':4, 'Five':5, 'Six':6, 'Seven':7, 'Eight':8, 'Nine':9, 'Ten':10, 'Jack':10,\n",
    "             'Queen':10, 'King':10, 'Ace':11}\n",
    "playing = True\n"
   ]
  },
  {
   "cell_type": "code",
   "execution_count": 8,
   "id": "2f92e1bb",
   "metadata": {},
   "outputs": [],
   "source": [
    "class Card():\n",
    "    def __init__(self,suit,rank):\n",
    "        self.suit = suit\n",
    "        self.rank = rank\n",
    "        \n",
    "    def __str__(self):\n",
    "        return self.rank + ' of ' + self.suit"
   ]
  },
  {
   "cell_type": "code",
   "execution_count": 9,
   "id": "d84a3dac",
   "metadata": {},
   "outputs": [
    {
     "data": {
      "text/plain": [
       "'Hearts'"
      ]
     },
     "execution_count": 9,
     "metadata": {},
     "output_type": "execute_result"
    }
   ],
   "source": [
    "suits[0]"
   ]
  },
  {
   "cell_type": "code",
   "execution_count": 10,
   "id": "5837a9f1",
   "metadata": {},
   "outputs": [],
   "source": [
    "class Deck:\n",
    "    \n",
    "    def __init__(self):\n",
    "        # Note this only happens once upon creation of a new Deck\n",
    "        self.deck = [] \n",
    "        for suit in suits:\n",
    "            for rank in ranks:\n",
    "                # This assumes the Card class has already been defined!\n",
    "                self.deck.append(Card(suit,rank))\n",
    "    \n",
    "    def __str__(self):\n",
    "        deck_comp = ''\n",
    "        for card in self.deck:\n",
    "            deck_comp +='\\n'+card.__str__()\n",
    "        return 'The deck has:' + deck_comp\n",
    "            \n",
    "                \n",
    "    def shuffle(self):\n",
    "        # Note this doesn't return anything\n",
    "        random.shuffle(self.deck)\n",
    "        \n",
    "    def deal_one(self):\n",
    "        # Note we remove one card from the list of all_cards\n",
    "        single_card = self.deck.pop()        \n",
    "        return single_card"
   ]
  },
  {
   "cell_type": "code",
   "execution_count": 11,
   "id": "e7c1b125",
   "metadata": {},
   "outputs": [
    {
     "name": "stdout",
     "output_type": "stream",
     "text": [
      "The deck has:\n",
      "Seven of Diamonds\n",
      "Seven of Hearts\n",
      "Eight of Clubs\n",
      "Seven of Spades\n",
      "Eight of Diamonds\n",
      "Three of Clubs\n",
      "Two of Clubs\n",
      "Seven of Clubs\n",
      "Six of Spades\n",
      "Queen of Spades\n",
      "Ten of Hearts\n",
      "Two of Spades\n",
      "Five of Diamonds\n",
      "Nine of Hearts\n",
      "Eight of Spades\n",
      "Three of Hearts\n",
      "King of Diamonds\n",
      "King of Clubs\n",
      "King of Hearts\n",
      "Ace of Hearts\n",
      "Six of Diamonds\n",
      "Queen of Diamonds\n",
      "Jack of Diamonds\n",
      "Three of Diamonds\n",
      "Jack of Hearts\n",
      "Jack of Clubs\n",
      "Five of Hearts\n",
      "Six of Hearts\n",
      "Four of Clubs\n",
      "Nine of Spades\n",
      "Two of Diamonds\n",
      "Ace of Spades\n",
      "Ace of Diamonds\n",
      "Four of Diamonds\n",
      "Ten of Diamonds\n",
      "Three of Spades\n",
      "Five of Spades\n",
      "Four of Spades\n",
      "Nine of Clubs\n",
      "Nine of Diamonds\n",
      "Four of Hearts\n",
      "Ten of Spades\n",
      "Ace of Clubs\n",
      "Two of Hearts\n",
      "Eight of Hearts\n",
      "King of Spades\n",
      "Jack of Spades\n",
      "Six of Clubs\n",
      "Five of Clubs\n",
      "Ten of Clubs\n",
      "Queen of Clubs\n",
      "Queen of Hearts\n"
     ]
    }
   ],
   "source": [
    "test_deck = Deck()\n",
    "test_deck.shuffle()\n",
    "print(test_deck)"
   ]
  },
  {
   "cell_type": "code",
   "execution_count": null,
   "id": "e7282e49",
   "metadata": {},
   "outputs": [],
   "source": []
  },
  {
   "cell_type": "code",
   "execution_count": null,
   "id": "1937345c",
   "metadata": {},
   "outputs": [],
   "source": []
  },
  {
   "cell_type": "code",
   "execution_count": 12,
   "id": "e39e0b79",
   "metadata": {},
   "outputs": [
    {
     "ename": "NameError",
     "evalue": "name 'test_player' is not defined",
     "output_type": "error",
     "traceback": [
      "\u001b[1;31m---------------------------------------------------------------------------\u001b[0m",
      "\u001b[1;31mNameError\u001b[0m                                 Traceback (most recent call last)",
      "\u001b[1;32m~\\AppData\\Local\\Temp\\ipykernel_17972\\3863703013.py\u001b[0m in \u001b[0;36m<module>\u001b[1;34m\u001b[0m\n\u001b[1;32m----> 1\u001b[1;33m \u001b[1;32mfor\u001b[0m \u001b[0mcard\u001b[0m \u001b[1;32min\u001b[0m \u001b[0mtest_player\u001b[0m\u001b[1;33m.\u001b[0m\u001b[0mcards\u001b[0m\u001b[1;33m:\u001b[0m\u001b[1;33m\u001b[0m\u001b[1;33m\u001b[0m\u001b[0m\n\u001b[0m\u001b[0;32m      2\u001b[0m     \u001b[0mprint\u001b[0m\u001b[1;33m(\u001b[0m\u001b[0mcard\u001b[0m\u001b[1;33m)\u001b[0m\u001b[1;33m\u001b[0m\u001b[1;33m\u001b[0m\u001b[0m\n",
      "\u001b[1;31mNameError\u001b[0m: name 'test_player' is not defined"
     ]
    }
   ],
   "source": [
    "for card in test_player.cards:\n",
    "    print(card)"
   ]
  },
  {
   "cell_type": "code",
   "execution_count": 13,
   "id": "4a447d56",
   "metadata": {},
   "outputs": [],
   "source": [
    "class Hand:\n",
    "    def __init__(self):\n",
    "        self.cards = []  # start with an empty list as we did in the Deck class\n",
    "        self.value = 0   # start with zero value\n",
    "        self.aces = 0    # add an attribute to keep track of aces\n",
    "    \n",
    "    def add_card(self,card):\n",
    "        self.cards.append(card)\n",
    "        self.value+=values[card.rank]\n",
    "        if card.rank == 'Ace':\n",
    "            self.aces+=1\n",
    "            \n",
    "    def adjust_for_ace(self):\n",
    "        while self.value >21 and self.aces:\n",
    "            self.value-=10\n",
    "            self.aces-=1\n",
    "            \n",
    "        "
   ]
  },
  {
   "cell_type": "code",
   "execution_count": 14,
   "id": "7e622865",
   "metadata": {},
   "outputs": [
    {
     "name": "stdout",
     "output_type": "stream",
     "text": [
      "Eight of Diamonds\n",
      "8\n"
     ]
    }
   ],
   "source": [
    "test_deck = Deck()\n",
    "test_deck.shuffle()\n",
    "test_player = Hand()\n",
    "#Dealing a card from the deck\n",
    "pulled_card = test_deck.deal_one()\n",
    "print(pulled_card)\n",
    "test_player.add_card(pulled_card)\n",
    "print(test_player.value)"
   ]
  },
  {
   "cell_type": "code",
   "execution_count": 15,
   "id": "e5347c84",
   "metadata": {},
   "outputs": [
    {
     "data": {
      "text/plain": [
       "13"
      ]
     },
     "execution_count": 15,
     "metadata": {},
     "output_type": "execute_result"
    }
   ],
   "source": [
    "test_player.add_card(test_deck.deal_one())\n",
    "test_player.value"
   ]
  },
  {
   "cell_type": "code",
   "execution_count": 16,
   "id": "33b4ce4b",
   "metadata": {},
   "outputs": [],
   "source": [
    "class Chips:\n",
    "    \n",
    "    def __init__(self,total=100):\n",
    "        self.total = total  # This can be set to a default value or supplied by a user input\n",
    "        self.bet = 0\n",
    "        \n",
    "    def win_bet(self):\n",
    "        self.total+=self.bet\n",
    "        \n",
    "    \n",
    "    def lose_bet(self):\n",
    "        self.total-=self.bet\n",
    "        \n"
   ]
  },
  {
   "cell_type": "code",
   "execution_count": 17,
   "id": "9b42545d",
   "metadata": {},
   "outputs": [],
   "source": [
    "def take_bet(chips):\n",
    "    while True:\n",
    "        try:\n",
    "            chips.bet = int(input(\"Select the amount you want to bet: \"))\n",
    "        except ValueError:\n",
    "            print(\"Sorry please provide an integer: \")\n",
    "        else:\n",
    "            if chips.bet>chips.total:\n",
    "                print(\"Sorry you don't have enough chips! You have {}\".format(chips.total))\n",
    "            else:\n",
    "                break\n",
    "    \n",
    " "
   ]
  },
  {
   "cell_type": "code",
   "execution_count": 18,
   "id": "22dd9203",
   "metadata": {},
   "outputs": [],
   "source": [
    "def hit(deck,hand):\n",
    "    \n",
    "    hand.add_card(deck.deal_one())\n",
    "    hand.adjust_for_ace()\n",
    "    \n",
    "    \n"
   ]
  },
  {
   "cell_type": "code",
   "execution_count": 19,
   "id": "dc560141",
   "metadata": {},
   "outputs": [],
   "source": [
    "def hit_or_stand(deck,hand):\n",
    "    global playing  # to control an upcoming while loop\n",
    "    \n",
    "    while True:\n",
    "        x = input(\"Hit or stand? Enter H or S \")\n",
    "        if x[0].lower() == 'h':\n",
    "            hit(deck,hand)\n",
    "        elif x[0].lower() == 's':\n",
    "            print(\"Player stands, dealers turn!\")\n",
    "            playing = False\n",
    "        else:\n",
    "            print(\"Sorry I didn't understand, please enter H or S! \")\n",
    "            continue\n",
    "        break\n",
    "            \n",
    "            "
   ]
  },
  {
   "cell_type": "code",
   "execution_count": 20,
   "id": "f0c65c19",
   "metadata": {},
   "outputs": [],
   "source": [
    "def show_some(player,dealer):\n",
    "    #Show only one of the dealer's cards\n",
    "    print(\"\\n Dealer's hand: \")\n",
    "    print(\" <card hidden!>\")\n",
    "    print(dealer.cards[1])\n",
    "    \n",
    "    #Show all (2)cards in the player's hands\n",
    "    print(\"\\n Player's hand: \")\n",
    "    for card in player.cards:\n",
    "        print(card)\n",
    "        \n",
    "   \n",
    "    \n",
    "def show_all(player,dealer):\n",
    "    #Show all dealer's cards\n",
    "    print(\"\\n Dealer's hand: \")\n",
    "    for card in dealer.cards:\n",
    "        print(card)\n",
    "        \n",
    "    #Calculate and display value\n",
    "    print(f'Value of dealers hand is {dealer.value}')\n",
    "    #Show all player's cards\n",
    "    print(\"\\n Player's hand: \")\n",
    "    for card in player.cards:\n",
    "        print(card)\n",
    "    print(f'Value of Players hand is {player.value}')\n",
    "    \n",
    "    \n",
    " "
   ]
  },
  {
   "cell_type": "code",
   "execution_count": 21,
   "id": "f11fa0f3",
   "metadata": {},
   "outputs": [],
   "source": [
    "def player_busts(player,dealer,chips):\n",
    "    print(\"Player busts!\")\n",
    "    chips.lose_bet()\n",
    "\n",
    "def player_wins(player,dealer,chips):\n",
    "    print(\"Player wins!\")\n",
    "    chips.win_bet()\n",
    "\n",
    "def dealer_busts(player,dealer,chips):\n",
    "    print(\"Dealer busts!\")\n",
    "    chips.win_bet()\n",
    "    \n",
    "def dealer_wins(player,dealer,chips):\n",
    "    print(\"Dealer wins!\")\n",
    "    chips.lose_bet()\n",
    "    \n",
    "def push(player,dealer):\n",
    "    print(\"Dealer and Player tie! It's a push.\")"
   ]
  },
  {
   "cell_type": "code",
   "execution_count": 22,
   "id": "4aedf79c",
   "metadata": {},
   "outputs": [
    {
     "name": "stdout",
     "output_type": "stream",
     "text": [
      "Welcome to blackjack!\n",
      "Select the amount you want to bet: 50\n",
      "\n",
      " Dealer's hand: \n",
      " <card hidden!>\n",
      "Three of Clubs\n",
      "\n",
      " Player's hand: \n",
      "Jack of Spades\n",
      "Six of Diamonds\n",
      "Hit or stand? Enter H or S s\n",
      "Player stands, dealers turn!\n",
      "\n",
      " Dealer's hand: \n",
      " <card hidden!>\n",
      "Three of Clubs\n",
      "\n",
      " Player's hand: \n",
      "Jack of Spades\n",
      "Six of Diamonds\n",
      "\n",
      " Dealer's hand: \n",
      "Queen of Hearts\n",
      "Three of Clubs\n",
      "Six of Hearts\n",
      "Value of dealers hand is 19\n",
      "\n",
      " Player's hand: \n",
      "Jack of Spades\n",
      "Six of Diamonds\n",
      "Value of Players hand is 16\n",
      "Dealer wins!\n",
      "\n",
      " Player chips are at: 50\n",
      "Would you like to play again?: y/nn\n",
      "Thank you for playing!\n"
     ]
    }
   ],
   "source": [
    "while True:\n",
    "    # Print an opening statement\n",
    "    print(\"Welcome to blackjack!\")\n",
    "\n",
    "    \n",
    "    # Create & shuffle the deck, deal two cards to each player\n",
    "    deck = Deck()\n",
    "    deck.shuffle()\n",
    "    player_hand = Hand()\n",
    "    player_hand.add_card(deck.deal_one())\n",
    "    player_hand.add_card(deck.deal_one())\n",
    "    dealer_hand = Hand()\n",
    "    dealer_hand.add_card(deck.deal_one())\n",
    "    dealer_hand.add_card(deck.deal_one())\n",
    "    \n",
    "\n",
    "    \n",
    "        \n",
    "    # Set up the Player's chips\n",
    "    player_chips = Chips()\n",
    "    \n",
    "    \n",
    "    # Prompt the Player for their bet\n",
    "    take_bet(player_chips)\n",
    "\n",
    "    \n",
    "    # Show cards (but keep one dealer card hidden)\n",
    "    show_some(player_hand,dealer_hand)\n",
    "\n",
    "    \n",
    "    while playing:  # recall this variable from our hit_or_stand function\n",
    "        \n",
    "        \n",
    "        # Prompt for Player to Hit or Stand\n",
    "        hit_or_stand(deck,player_hand)\n",
    "        \n",
    "        \n",
    "        # Show cards (but keep one dealer card hidden)\n",
    "        show_some(player_hand,dealer_hand)\n",
    " \n",
    "        \n",
    "        # If player's hand exceeds 21, run player_busts() and break out of loop\n",
    "        if player_hand.value>21:\n",
    "            player_busts(player_hand,dealer_hand,player_chips)\n",
    "            \n",
    "        \n",
    "\n",
    "            break\n",
    "\n",
    "    # If Player hasn't busted, play Dealer's hand until Dealer reaches 17\n",
    "    if player_hand.value<=21:\n",
    "        while dealer_hand.value<17:\n",
    "            hit(deck,dealer_hand)\n",
    "                \n",
    "    \n",
    "    \n",
    "        # Show all cards\n",
    "        show_all(player_hand,dealer_hand)\n",
    "    \n",
    "        # Run different winning scenarios\n",
    "        if dealer_hand.value>21:\n",
    "            dealer_busts(player_hand,dealer_hand,player_chips)\n",
    "        elif dealer_hand.value>player_hand.value:\n",
    "            dealer_wins(player_hand,dealer_hand,player_chips)\n",
    "        elif dealer_hand.value<player_hand.value:\n",
    "            player_wins(player_hand,dealer_hand,player_chips)\n",
    "        else:\n",
    "            push(player_hand,dealer_hand)\n",
    "            \n",
    "        \n",
    "    \n",
    "    # Inform Player of their chips total \n",
    "    print(\"\\n Player chips are at: {}\".format(player_chips.total))\n",
    "    # Ask to play again\n",
    "    new_game = input(\"Would you like to play again?: y/n\")\n",
    "    if new_game[0].lower()=='y':\n",
    "        playing = True\n",
    "    else:\n",
    "        print('Thank you for playing!')\n",
    "    \n",
    "\n",
    "        break"
   ]
  },
  {
   "cell_type": "code",
   "execution_count": null,
   "id": "e470a646",
   "metadata": {},
   "outputs": [],
   "source": []
  },
  {
   "cell_type": "code",
   "execution_count": null,
   "id": "6a49d2da",
   "metadata": {},
   "outputs": [],
   "source": []
  }
 ],
 "metadata": {
  "kernelspec": {
   "display_name": "Python 3 (ipykernel)",
   "language": "python",
   "name": "python3"
  },
  "language_info": {
   "codemirror_mode": {
    "name": "ipython",
    "version": 3
   },
   "file_extension": ".py",
   "mimetype": "text/x-python",
   "name": "python",
   "nbconvert_exporter": "python",
   "pygments_lexer": "ipython3",
   "version": "3.9.13"
  }
 },
 "nbformat": 4,
 "nbformat_minor": 5
}
