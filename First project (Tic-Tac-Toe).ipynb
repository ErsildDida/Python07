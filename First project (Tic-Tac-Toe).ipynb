{
 "cells": [
  {
   "cell_type": "code",
   "execution_count": 1,
   "id": "2aab6564",
   "metadata": {},
   "outputs": [],
   "source": [
    "from IPython.display import clear_output\n",
    "def the_board(board):\n",
    "    clear_output()\n",
    "    print('   |   |')\n",
    "    print(' ' + board[7] + ' | ' + board[8] + ' | ' + board[9])\n",
    "    print('   |   |')\n",
    "    print('-----------')\n",
    "    print('   |   |')\n",
    "    print(' ' + board[4] + ' | ' + board[5] + ' | ' + board[6])\n",
    "    print('   |   |')\n",
    "    print('-----------')\n",
    "    print('   |   |')\n",
    "    print(' ' + board[1] + ' | ' + board[2] + ' | ' + board[3])\n",
    "    print('   |   |')"
   ]
  },
  {
   "cell_type": "code",
   "execution_count": 2,
   "id": "dfdb6c32",
   "metadata": {},
   "outputs": [
    {
     "name": "stdout",
     "output_type": "stream",
     "text": [
      "   |   |\n",
      " X | O | X\n",
      "   |   |\n",
      "-----------\n",
      "   |   |\n",
      " O | X | O\n",
      "   |   |\n",
      "-----------\n",
      "   |   |\n",
      " X | O | X\n",
      "   |   |\n"
     ]
    }
   ],
   "source": [
    "test_board=['#','X','O','X','O','X','O','X','O','X']\n",
    "the_board(test_board)"
   ]
  },
  {
   "cell_type": "code",
   "execution_count": 3,
   "id": "060b7f8f",
   "metadata": {},
   "outputs": [],
   "source": [
    "def player_input():\n",
    "    marker =''\n",
    "    while not(marker =='X' and marker =='O'):\n",
    "        marker = input('Player 1 Which do you want to be? X or O?  ').upper()\n",
    "        \n",
    "        if marker == 'X':\n",
    "            return('X','O')\n",
    "        else:\n",
    "            return('O','X')\n",
    "    "
   ]
  },
  {
   "cell_type": "code",
   "execution_count": 4,
   "id": "ef031823",
   "metadata": {},
   "outputs": [
    {
     "name": "stdout",
     "output_type": "stream",
     "text": [
      "Player 1 Which do you want to be? X or O?  X\n"
     ]
    }
   ],
   "source": [
    "player1_marker , player2_marker = player_input()"
   ]
  },
  {
   "cell_type": "code",
   "execution_count": 5,
   "id": "ee9eee32",
   "metadata": {},
   "outputs": [
    {
     "data": {
      "text/plain": [
       "'O'"
      ]
     },
     "execution_count": 5,
     "metadata": {},
     "output_type": "execute_result"
    }
   ],
   "source": [
    "player2_marker"
   ]
  },
  {
   "cell_type": "code",
   "execution_count": 6,
   "id": "e6d5ef24",
   "metadata": {},
   "outputs": [],
   "source": [
    "def place_marker(board,marker,position):\n",
    "       \n",
    "        board[position]=marker\n",
    "      \n",
    "\n",
    "    "
   ]
  },
  {
   "cell_type": "code",
   "execution_count": 7,
   "id": "be3392bd",
   "metadata": {},
   "outputs": [
    {
     "name": "stdout",
     "output_type": "stream",
     "text": [
      "   |   |\n",
      " X | $ | X\n",
      "   |   |\n",
      "-----------\n",
      "   |   |\n",
      " O | X | O\n",
      "   |   |\n",
      "-----------\n",
      "   |   |\n",
      " X | O | X\n",
      "   |   |\n"
     ]
    }
   ],
   "source": [
    "place_marker(test_board,'$',8)\n",
    "the_board(test_board)"
   ]
  },
  {
   "cell_type": "code",
   "execution_count": 8,
   "id": "a78e33a5",
   "metadata": {},
   "outputs": [],
   "source": [
    "def win_check(board,mark):\n",
    "    return ((board[7] == mark and board[8] == mark and board[9] == mark) or # across the top\n",
    "    (board[4] == mark and board[5] == mark and board[6] == mark) or # across the middle\n",
    "    (board[1] == mark and board[2] == mark and board[3] == mark) or # across the bottom\n",
    "    (board[7] == mark and board[4] == mark and board[1] == mark) or # down the middle\n",
    "    (board[8] == mark and board[5] == mark and board[2] == mark) or # down the middle\n",
    "    (board[9] == mark and board[6] == mark and board[3] == mark) or # down the right side\n",
    "    (board[7] == mark and board[5] == mark and board[3] == mark) or # diagonal\n",
    "    (board[9] == mark and board[5] == mark and board[1] == mark)) # diagonal\n",
    "    "
   ]
  },
  {
   "cell_type": "code",
   "execution_count": 9,
   "id": "b046df6b",
   "metadata": {},
   "outputs": [
    {
     "name": "stdout",
     "output_type": "stream",
     "text": [
      "   |   |\n",
      " X | $ | X\n",
      "   |   |\n",
      "-----------\n",
      "   |   |\n",
      " O | X | O\n",
      "   |   |\n",
      "-----------\n",
      "   |   |\n",
      " X | O | X\n",
      "   |   |\n"
     ]
    },
    {
     "data": {
      "text/plain": [
       "True"
      ]
     },
     "execution_count": 9,
     "metadata": {},
     "output_type": "execute_result"
    }
   ],
   "source": [
    "the_board(test_board)\n",
    "win_check(test_board,'X')"
   ]
  },
  {
   "cell_type": "code",
   "execution_count": 10,
   "id": "27498c8c",
   "metadata": {},
   "outputs": [],
   "source": [
    "import random\n",
    "def choose_first():\n",
    "    flip = random.randint(0,1)\n",
    "    if flip == 0:\n",
    "        return 'Player 1'\n",
    "    else:\n",
    "        return 'Player 2'"
   ]
  },
  {
   "cell_type": "code",
   "execution_count": 11,
   "id": "c2438507",
   "metadata": {},
   "outputs": [],
   "source": [
    "def space_check(board,position):\n",
    "    return board[position]==' '"
   ]
  },
  {
   "cell_type": "code",
   "execution_count": 12,
   "id": "0459fdf0",
   "metadata": {},
   "outputs": [],
   "source": [
    "def full_board(board):\n",
    "    for i in range(1,10):\n",
    "        if space_check(board,i):\n",
    "            return False\n",
    "    return True    "
   ]
  },
  {
   "cell_type": "code",
   "execution_count": 13,
   "id": "3c5b0b97",
   "metadata": {},
   "outputs": [],
   "source": [
    "def player_choice(board):\n",
    "    position = 0\n",
    "    while position not in [1,2,3,4,5,6,7,8,9] or not space_check(board,position):\n",
    "        position = int(input('Choose a position 1 - 9'))\n",
    "        return position"
   ]
  },
  {
   "cell_type": "code",
   "execution_count": 14,
   "id": "8cdf5ae5",
   "metadata": {},
   "outputs": [],
   "source": [
    "def replay():\n",
    "    input('Play again? YES or NO')\n",
    "    return choice =='Yes'"
   ]
  },
  {
   "cell_type": "code",
   "execution_count": null,
   "id": "f65fffb7",
   "metadata": {},
   "outputs": [
    {
     "name": "stdout",
     "output_type": "stream",
     "text": [
      "   |   |\n",
      " O | X | X\n",
      "   |   |\n",
      "-----------\n",
      "   |   |\n",
      "   | O | X\n",
      "   |   |\n",
      "-----------\n",
      "   |   |\n",
      " X |   | O\n",
      "   |   |\n",
      "Player 2 has won.\n"
     ]
    }
   ],
   "source": [
    "#While loop to keep running the game\n",
    "print('WELCOME TO TIC TAC TOE')\n",
    "while True:\n",
    "    #play the game\n",
    "    #Set everything up(board,whose first,markers)\n",
    "    boardd = [' ']*10\n",
    "    player1_marker,player2_marker = player_input()\n",
    "    turn = choose_first()\n",
    "    print(turn + 'will go first.')\n",
    "    play_game = input('Ready to play? Y or N')\n",
    "    if play_game == 'Y':\n",
    "        game_on =True\n",
    "    else:\n",
    "        game_on = False\n",
    "            \n",
    "    #Gameplay()\n",
    "    while game_on:\n",
    "        if turn =='Player 1':\n",
    "            the_board(boardd)\n",
    "            #Choose position\n",
    "            position = player_choice(boardd)\n",
    "            \n",
    "            \n",
    "            #Place marker on position\n",
    "            place_marker(boardd,player1_marker,position)\n",
    "            \n",
    "            #Check winner\n",
    "            if win_check(boardd,player1_marker):\n",
    "                the_board(boardd)\n",
    "                print('Player 1 has won.')\n",
    "                game_on =False\n",
    "            else:\n",
    "                if full_board(boardd):\n",
    "                    the_board(boardd)\n",
    "                    print('Tie game!')\n",
    "                    game_on =False\n",
    "                else:\n",
    "                    turn ='Player 2'\n",
    "          \n",
    "            \n",
    "    \n",
    "  \n",
    "        else:\n",
    "            \n",
    "            the_board(boardd)\n",
    "            #Choose position\n",
    "            position = player_choice(boardd)\n",
    "            \n",
    "            \n",
    "            #Place marker on position\n",
    "            place_marker(boardd,player2_marker,position)\n",
    "            \n",
    "            #Check winner\n",
    "            if win_check(boardd,player2_marker):\n",
    "                the_board(boardd)\n",
    "                print('Player 2 has won.')\n",
    "                game_on =False\n",
    "            else:\n",
    "                if full_board(boardd):\n",
    "                    the_board(boardd)\n",
    "                    print('Tie game!')\n",
    "                    game_on =False\n",
    "                else:\n",
    "                    turn ='Player 1'\n",
    "          \n",
    "    \n",
    "    #Player 2 turn\n",
    "    if not replay():\n",
    "        break\n",
    "#Break out of the while loop on the replay function"
   ]
  },
  {
   "cell_type": "code",
   "execution_count": null,
   "id": "fc02f51c",
   "metadata": {},
   "outputs": [],
   "source": []
  },
  {
   "cell_type": "code",
   "execution_count": null,
   "id": "cf3dbe6a",
   "metadata": {},
   "outputs": [],
   "source": []
  }
 ],
 "metadata": {
  "kernelspec": {
   "display_name": "Python 3 (ipykernel)",
   "language": "python",
   "name": "python3"
  },
  "language_info": {
   "codemirror_mode": {
    "name": "ipython",
    "version": 3
   },
   "file_extension": ".py",
   "mimetype": "text/x-python",
   "name": "python",
   "nbconvert_exporter": "python",
   "pygments_lexer": "ipython3",
   "version": "3.9.13"
  }
 },
 "nbformat": 4,
 "nbformat_minor": 5
}
